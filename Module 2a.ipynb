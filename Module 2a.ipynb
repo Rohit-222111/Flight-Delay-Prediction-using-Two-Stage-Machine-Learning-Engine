{
 "cells": [
  {
   "cell_type": "code",
   "execution_count": 1,
   "id": "ef5cc65b-b1d0-43be-a39d-67c4e62658bb",
   "metadata": {},
   "outputs": [],
   "source": [
    "import numpy as np\n",
    "import pandas as pd\n",
    "from sklearn.preprocessing import StandardScaler, LabelEncoder, OneHotEncoder\n",
    "from sklearn.model_selection import train_test_split\n",
    "from sklearn.linear_model import LogisticRegression\n",
    "from sklearn.metrics import accuracy_score, classification_report\n",
    "from sklearn.compose import ColumnTransformer\n",
    "from imblearn.over_sampling import SMOTE\n",
    "from sklearn.decomposition import PCA\n",
    "import matplotlib.pyplot as plt\n",
    "\n",
    "data = pd.read_csv(\"Preprocessed_Data.csv\")\n",
    "df = pd.DataFrame(data)"
   ]
  },
  {
   "cell_type": "code",
   "execution_count": 2,
   "id": "e190ee6a-3ba9-435e-a156-56d3c9d74a71",
   "metadata": {},
   "outputs": [],
   "source": [
    "df.drop(['CRSDepTime', 'DepDel15',  'ArrTime', 'CRSArrTime', 'ArrDelayMinutes', 'OriginAirportID', 'DestAirportID', 'Quarter'\n",
    "         , 'FlightDate', 'WindGustKmph', 'WindChillF'], axis = 1, inplace = True)"
   ]
  },
  {
   "cell_type": "code",
   "execution_count": 3,
   "id": "86794da7-a98d-464d-8d37-48f83f4fb6ce",
   "metadata": {},
   "outputs": [],
   "source": [
    "df.to_csv(\"Preprocessed_Data_Classification.csv\", index=False)"
   ]
  },
  {
   "cell_type": "code",
   "execution_count": 4,
   "id": "f8c9c706-d17c-45e8-9f51-0d2476d6f9f1",
   "metadata": {},
   "outputs": [],
   "source": [
    "data = pd.read_csv(\"Preprocessed_Data_Classification.csv\")\n",
    "df = pd.DataFrame(data)"
   ]
  },
  {
   "cell_type": "code",
   "execution_count": 5,
   "id": "0f45d8e9-024f-4c43-8ab7-018db2c06915",
   "metadata": {},
   "outputs": [
    {
     "data": {
      "text/html": [
       "<div>\n",
       "<style scoped>\n",
       "    .dataframe tbody tr th:only-of-type {\n",
       "        vertical-align: middle;\n",
       "    }\n",
       "\n",
       "    .dataframe tbody tr th {\n",
       "        vertical-align: top;\n",
       "    }\n",
       "\n",
       "    .dataframe thead th {\n",
       "        text-align: right;\n",
       "    }\n",
       "</style>\n",
       "<table border=\"1\" class=\"dataframe\">\n",
       "  <thead>\n",
       "    <tr style=\"text-align: right;\">\n",
       "      <th></th>\n",
       "      <th>Year</th>\n",
       "      <th>Month</th>\n",
       "      <th>DayofMonth</th>\n",
       "      <th>Origin</th>\n",
       "      <th>Dest</th>\n",
       "      <th>DepTime</th>\n",
       "      <th>DepDelayMinutes</th>\n",
       "      <th>ArrDel15</th>\n",
       "      <th>rounded_time</th>\n",
       "      <th>WindSpeedKmph</th>\n",
       "      <th>WindDirDegree</th>\n",
       "      <th>WeatherCode</th>\n",
       "      <th>precipMM</th>\n",
       "      <th>Visibility</th>\n",
       "      <th>Pressure</th>\n",
       "      <th>Cloudcover</th>\n",
       "      <th>DewPointF</th>\n",
       "      <th>tempF</th>\n",
       "      <th>Humidity</th>\n",
       "    </tr>\n",
       "  </thead>\n",
       "  <tbody>\n",
       "    <tr>\n",
       "      <th>0</th>\n",
       "      <td>2016</td>\n",
       "      <td>1</td>\n",
       "      <td>1</td>\n",
       "      <td>SEA</td>\n",
       "      <td>JFK</td>\n",
       "      <td>741.0</td>\n",
       "      <td>0.0</td>\n",
       "      <td>0.0</td>\n",
       "      <td>1600</td>\n",
       "      <td>22.0</td>\n",
       "      <td>255.0</td>\n",
       "      <td>113.0</td>\n",
       "      <td>0.0</td>\n",
       "      <td>10.0</td>\n",
       "      <td>1015.0</td>\n",
       "      <td>0.0</td>\n",
       "      <td>32.0</td>\n",
       "      <td>41.0</td>\n",
       "      <td>74.0</td>\n",
       "    </tr>\n",
       "    <tr>\n",
       "      <th>1</th>\n",
       "      <td>2016</td>\n",
       "      <td>1</td>\n",
       "      <td>2</td>\n",
       "      <td>SEA</td>\n",
       "      <td>JFK</td>\n",
       "      <td>737.0</td>\n",
       "      <td>0.0</td>\n",
       "      <td>0.0</td>\n",
       "      <td>1600</td>\n",
       "      <td>19.0</td>\n",
       "      <td>248.0</td>\n",
       "      <td>113.0</td>\n",
       "      <td>0.0</td>\n",
       "      <td>10.0</td>\n",
       "      <td>1016.0</td>\n",
       "      <td>0.0</td>\n",
       "      <td>30.0</td>\n",
       "      <td>39.0</td>\n",
       "      <td>71.0</td>\n",
       "    </tr>\n",
       "    <tr>\n",
       "      <th>2</th>\n",
       "      <td>2016</td>\n",
       "      <td>1</td>\n",
       "      <td>3</td>\n",
       "      <td>SEA</td>\n",
       "      <td>JFK</td>\n",
       "      <td>743.0</td>\n",
       "      <td>0.0</td>\n",
       "      <td>0.0</td>\n",
       "      <td>1600</td>\n",
       "      <td>23.0</td>\n",
       "      <td>272.0</td>\n",
       "      <td>113.0</td>\n",
       "      <td>0.0</td>\n",
       "      <td>10.0</td>\n",
       "      <td>1009.0</td>\n",
       "      <td>46.0</td>\n",
       "      <td>31.0</td>\n",
       "      <td>40.0</td>\n",
       "      <td>69.0</td>\n",
       "    </tr>\n",
       "    <tr>\n",
       "      <th>3</th>\n",
       "      <td>2016</td>\n",
       "      <td>1</td>\n",
       "      <td>4</td>\n",
       "      <td>SEA</td>\n",
       "      <td>JFK</td>\n",
       "      <td>737.0</td>\n",
       "      <td>0.0</td>\n",
       "      <td>0.0</td>\n",
       "      <td>1600</td>\n",
       "      <td>28.0</td>\n",
       "      <td>342.0</td>\n",
       "      <td>116.0</td>\n",
       "      <td>0.0</td>\n",
       "      <td>10.0</td>\n",
       "      <td>1019.0</td>\n",
       "      <td>22.0</td>\n",
       "      <td>15.0</td>\n",
       "      <td>26.0</td>\n",
       "      <td>65.0</td>\n",
       "    </tr>\n",
       "    <tr>\n",
       "      <th>4</th>\n",
       "      <td>2016</td>\n",
       "      <td>1</td>\n",
       "      <td>5</td>\n",
       "      <td>SEA</td>\n",
       "      <td>JFK</td>\n",
       "      <td>708.0</td>\n",
       "      <td>0.0</td>\n",
       "      <td>0.0</td>\n",
       "      <td>1500</td>\n",
       "      <td>17.0</td>\n",
       "      <td>337.0</td>\n",
       "      <td>113.0</td>\n",
       "      <td>0.0</td>\n",
       "      <td>10.0</td>\n",
       "      <td>1035.0</td>\n",
       "      <td>0.0</td>\n",
       "      <td>14.0</td>\n",
       "      <td>27.0</td>\n",
       "      <td>61.0</td>\n",
       "    </tr>\n",
       "  </tbody>\n",
       "</table>\n",
       "</div>"
      ],
      "text/plain": [
       "   Year  Month  DayofMonth Origin Dest  DepTime  DepDelayMinutes  ArrDel15  \\\n",
       "0  2016      1           1    SEA  JFK    741.0              0.0       0.0   \n",
       "1  2016      1           2    SEA  JFK    737.0              0.0       0.0   \n",
       "2  2016      1           3    SEA  JFK    743.0              0.0       0.0   \n",
       "3  2016      1           4    SEA  JFK    737.0              0.0       0.0   \n",
       "4  2016      1           5    SEA  JFK    708.0              0.0       0.0   \n",
       "\n",
       "   rounded_time  WindSpeedKmph  WindDirDegree  WeatherCode  precipMM  \\\n",
       "0          1600           22.0          255.0        113.0       0.0   \n",
       "1          1600           19.0          248.0        113.0       0.0   \n",
       "2          1600           23.0          272.0        113.0       0.0   \n",
       "3          1600           28.0          342.0        116.0       0.0   \n",
       "4          1500           17.0          337.0        113.0       0.0   \n",
       "\n",
       "   Visibility  Pressure  Cloudcover  DewPointF  tempF  Humidity  \n",
       "0        10.0    1015.0         0.0       32.0   41.0      74.0  \n",
       "1        10.0    1016.0         0.0       30.0   39.0      71.0  \n",
       "2        10.0    1009.0        46.0       31.0   40.0      69.0  \n",
       "3        10.0    1019.0        22.0       15.0   26.0      65.0  \n",
       "4        10.0    1035.0         0.0       14.0   27.0      61.0  "
      ]
     },
     "execution_count": 5,
     "metadata": {},
     "output_type": "execute_result"
    }
   ],
   "source": [
    "df.head()"
   ]
  },
  {
   "cell_type": "code",
   "execution_count": 6,
   "id": "a72bdc75-14ef-432e-aa2e-7663917e475e",
   "metadata": {},
   "outputs": [
    {
     "data": {
      "text/plain": [
       "(1851436, 19)"
      ]
     },
     "execution_count": 6,
     "metadata": {},
     "output_type": "execute_result"
    }
   ],
   "source": [
    "df.shape"
   ]
  },
  {
   "cell_type": "code",
   "execution_count": 7,
   "id": "bed3778c-911d-4f8e-b6b7-5bac1738d972",
   "metadata": {},
   "outputs": [],
   "source": [
    "X = df.drop('ArrDel15', axis=1, inplace=False)\n",
    "y = df['ArrDel15']"
   ]
  },
  {
   "cell_type": "code",
   "execution_count": 8,
   "id": "516208c8-d8e7-441b-8daa-5fa65cb7ed23",
   "metadata": {},
   "outputs": [
    {
     "name": "stdout",
     "output_type": "stream",
     "text": [
      "Accuracy: 0.9164561994041381\n",
      "\n",
      "Classification Report:\n",
      "               precision    recall  f1-score   support\n",
      "\n",
      "           0       0.92      0.98      0.95    365842\n",
      "           1       0.89      0.69      0.78     97017\n",
      "\n",
      "    accuracy                           0.92    462859\n",
      "   macro avg       0.91      0.83      0.86    462859\n",
      "weighted avg       0.91      0.92      0.91    462859\n",
      "\n"
     ]
    }
   ],
   "source": [
    "X = pd.DataFrame(X, columns=[col for col in df.columns if col != 'ArrDel15'])\n",
    "categorical_cols = X.select_dtypes(include=['object']).columns\n",
    "numerical_cols = X.select_dtypes(include=['int64', 'float64']).columns\n",
    "\n",
    "categorical_transformer = OneHotEncoder(handle_unknown='ignore')\n",
    "\n",
    "numerical_transformer = StandardScaler()\n",
    "\n",
    "preprocessor = ColumnTransformer(\n",
    "    transformers=[\n",
    "        ('num', numerical_transformer, numerical_cols),\n",
    "        ('cat', categorical_transformer, categorical_cols)\n",
    "    ]\n",
    ")\n",
    "\n",
    "X_transformed = preprocessor.fit_transform(X)\n",
    "\n",
    "y = y.astype(int)\n",
    "\n",
    "X_train, X_test, y_train, y_test = train_test_split(X_transformed, y, test_size=0.25, random_state=0)\n",
    "\n",
    "logreg = LogisticRegression(max_iter=1000)\n",
    "logreg.fit(X_train, y_train)\n",
    "\n",
    "y_pred = logreg.predict(X_test)\n",
    "\n",
    "accuracy = accuracy_score(y_test, y_pred)\n",
    "report = classification_report(y_test, y_pred)\n",
    "\n",
    "print(f\"Accuracy: {accuracy}\")\n",
    "print(\"\\nClassification Report:\\n\", report)"
   ]
  },
  {
   "cell_type": "code",
   "execution_count": 9,
   "id": "8e117f10-b144-4892-a7d5-9da840e29ee2",
   "metadata": {},
   "outputs": [
    {
     "name": "stdout",
     "output_type": "stream",
     "text": [
      "Class distribution before SMOTE:\n",
      "Class 0: 1097536 (79.04%)\n",
      "Class 1: 291041 (20.96%)\n"
     ]
    }
   ],
   "source": [
    "from collections import Counter\n",
    "\n",
    "class_distribution = Counter(y_train)\n",
    "print(\"Class distribution before SMOTE:\")\n",
    "for label, count in class_distribution.items():\n",
    "    print(f\"Class {label}: {count} ({(count / len(y_train)) * 100:.2f}%)\")"
   ]
  },
  {
   "cell_type": "code",
   "execution_count": 15,
   "id": "4d3057f4-7c99-4743-bb98-6095c8fd8778",
   "metadata": {},
   "outputs": [
    {
     "data": {
      "image/png": "[encoded data removed]",
      "text/plain": [
       "<Figure size 600x600 with 1 Axes>"
      ]
     },
     "metadata": {},
     "output_type": "display_data"
    }
   ],
   "source": [
    "class_distribution = Counter(y_train)\n",
    "\n",
    "labels = [f\"Class {label}\" for label in class_distribution.keys()]\n",
    "sizes = list(class_distribution.values())\n",
    "\n",
    "plt.figure(figsize=(6, 6))\n",
    "plt.pie(sizes, labels=labels, autopct='%1.1f%%', startangle=90, colors=['skyblue', 'lightcoral', 'lightgreen', 'gold'])\n",
    "plt.title(\"Class Distribution Before SMOTE\")\n",
    "plt.show()"
   ]
  },
  {
   "cell_type": "code",
   "execution_count": 11,
   "id": "697d0d86-4824-48cb-b708-c93651bbef2f",
   "metadata": {},
   "outputs": [
    {
     "name": "stderr",
     "output_type": "stream",
     "text": [
      "C:\\Users\\Rohit\\AppData\\Local\\Temp\\ipykernel_20316\\3898218965.py:6: FutureWarning: Series.ravel is deprecated. The underlying array is already 1D, so ravel is not necessary.  Use `to_numpy()` for conversion to a numpy array instead.\n",
      "  X_train_res, y_train_res = sm.fit_resample(X_train_scaled, y_train.ravel())\n",
      "C:\\Users\\Rohit\\AppData\\Local\\Temp\\ipykernel_20316\\3898218965.py:7: FutureWarning: Series.ravel is deprecated. The underlying array is already 1D, so ravel is not necessary.  Use `to_numpy()` for conversion to a numpy array instead.\n",
      "  X_test_res, y_test_res = sm.fit_resample(X_test_scaled, y_test.ravel())\n"
     ]
    },
    {
     "name": "stdout",
     "output_type": "stream",
     "text": [
      "Logistic Regression Performance:\n",
      "Accuracy: 0.8656\n",
      "Classification Report:\n",
      "              precision    recall  f1-score   support\n",
      "\n",
      "     Class 0       0.83      0.93      0.87    365842\n",
      "     Class 1       0.92      0.80      0.86    365842\n",
      "\n",
      "    accuracy                           0.87    731684\n",
      "   macro avg       0.87      0.87      0.87    731684\n",
      "weighted avg       0.87      0.87      0.87    731684\n",
      "\n"
     ]
    }
   ],
   "source": [
    "scaler = StandardScaler(with_mean=False)\n",
    "X_train_scaled = scaler.fit_transform(X_train)\n",
    "X_test_scaled = scaler.transform(X_test)\n",
    "\n",
    "sm = SMOTE(random_state=42, k_neighbors=5)\n",
    "X_train_res, y_train_res = sm.fit_resample(X_train_scaled, y_train.ravel())\n",
    "X_test_res, y_test_res = sm.fit_resample(X_test_scaled, y_test.ravel())\n",
    "\n",
    "pd.DataFrame(X_train_res).to_csv('X_train_res.csv', index=False)\n",
    "pd.DataFrame(y_train_res).to_csv('y_train_res.csv', index=False)\n",
    "pd.DataFrame(X_test_res).to_csv('X_test_res.csv', index=False)\n",
    "pd.DataFrame(y_test_res).to_csv('y_test_res.csv', index=False)\n",
    "\n",
    "pca = PCA(n_components=30)\n",
    "X_train_reduced = pca.fit_transform(X_train_res)\n",
    "X_test_reduced = pca.transform(X_test_res)\n",
    "\n",
    "logistic = LogisticRegression(random_state=42)\n",
    "logistic.fit(X_train_reduced, y_train_res)\n",
    "\n",
    "y_pred = logistic.predict(X_test_reduced)\n",
    "\n",
    "accuracy = accuracy_score(y_test_res, y_pred)\n",
    "report = classification_report(y_test_res, y_pred, target_names=[\"Class 0\", \"Class 1\"])\n",
    "\n",
    "print(\"Logistic Regression Performance:\")\n",
    "print(f\"Accuracy: {accuracy:.4f}\")\n",
    "print(\"Classification Report:\")\n",
    "print(report)"
   ]
  },
  {
   "cell_type": "code",
   "execution_count": 12,
   "id": "876db98d-4dd5-47c2-b14f-f8ea2dc16818",
   "metadata": {},
   "outputs": [
    {
     "name": "stdout",
     "output_type": "stream",
     "text": [
      "Class distribution after SMOTE:\n",
      "Class 0: 1097536 (50.00%)\n",
      "Class 1: 1097536 (50.00%)\n"
     ]
    }
   ],
   "source": [
    "from collections import Counter\n",
    "\n",
    "class_distribution_res = Counter(y_train_res)\n",
    "print(\"Class distribution after SMOTE:\")\n",
    "for label_res, count_res in class_distribution_res.items():\n",
    "    print(f\"Class {label_res}: {count_res} ({(count_res / len(y_train_res)) * 100:.2f}%)\")"
   ]
  },
  {
   "cell_type": "code",
   "execution_count": 13,
   "id": "79f14901-7aa6-42ef-94b6-274dcbe07bd1",
   "metadata": {},
   "outputs": [
    {
     "data": {
      "image/png": "[encoded data removed]",
      "text/plain": [
       "<Figure size 600x600 with 1 Axes>"
      ]
     },
     "metadata": {},
     "output_type": "display_data"
    }
   ],
   "source": [
    "class_distribution_res = Counter(y_train_res)\n",
    "\n",
    "labels_res = [f\"Class {label_res}\" for label_res in class_distribution_res.keys()]\n",
    "sizes_res = list(class_distribution_res.values())\n",
    "\n",
    "plt.figure(figsize=(6, 6))\n",
    "plt.pie(sizes_res, labels=labels_res, autopct='%1.1f%%', startangle=90, colors=['skyblue', 'lightcoral', 'lightgreen', 'gold'])\n",
    "plt.title(\"Class Distribution After SMOTE\")\n",
    "plt.show()"
   ]
  },
  {
   "cell_type": "code",
   "execution_count": 14,
   "id": "a195905c-6723-4ddf-ab13-b10862a4890f",
   "metadata": {},
   "outputs": [
    {
     "data": {
      "image/png": "[encoded data removed]",
      "text/plain": [
       "<Figure size 600x600 with 2 Axes>"
      ]
     },
     "metadata": {},
     "output_type": "display_data"
    }
   ],
   "source": [
    "import seaborn as sns\n",
    "from sklearn.metrics import confusion_matrix\n",
    "\n",
    "cm = confusion_matrix(y_test_res, y_pred)\n",
    "plt.figure(figsize=(6, 6))\n",
    "sns.heatmap(cm, annot=True, fmt='d', cmap='Blues', xticklabels=['0', '1'], yticklabels=['0', '1'])\n",
    "plt.xlabel('Predicted')\n",
    "plt.ylabel('Actual')\n",
    "plt.title('Confusion Matrix')\n",
    "plt.show()"
   ]
  }
 ],
 "metadata": {
  "kernelspec": {
   "display_name": "Python 3 (ipykernel)",
   "language": "python",
   "name": "python3"
  },
  "language_info": {
   "codemirror_mode": {
    "name": "ipython",
    "version": 3
   },
   "file_extension": ".py",
   "mimetype": "text/x-python",
   "name": "python",
   "nbconvert_exporter": "python",
   "pygments_lexer": "ipython3",
   "version": "3.12.3"
  }
 },
 "nbformat": 4,
 "nbformat_minor": 5
}
